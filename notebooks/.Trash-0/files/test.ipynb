import optimus
print(optimus.__path__)