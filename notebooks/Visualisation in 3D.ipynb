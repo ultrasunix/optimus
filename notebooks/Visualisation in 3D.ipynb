{
 "cells": [
  {
   "cell_type": "markdown",
   "id": "e59ef537",
   "metadata": {},
   "source": [
    "# Three dimensional visualisation\n",
    "\n",
    "OptimUS provides simulations of harmonic acoustic waves. This tutorial shows visualise functionality in three dimensions. We use an field focused inside a ribcage model. "
   ]
  },
  {
   "cell_type": "markdown",
   "id": "d9dbc969",
   "metadata": {},
   "source": [
    "## Import the OptimUS library\n",
    "\n",
    "Load the OptimUS library."
   ]
  },
  {
   "cell_type": "code",
   "execution_count": 1,
   "id": "61baa410",
   "metadata": {},
   "outputs": [],
   "source": [
    "import sys\n",
    "sys.path.append('..')"
   ]
  },
  {
   "cell_type": "code",
   "execution_count": 2,
   "id": "9126a3e1",
   "metadata": {},
   "outputs": [],
   "source": [
    "import optimus"
   ]
  },
  {
   "cell_type": "code",
   "execution_count": 3,
   "id": "fd12942e",
   "metadata": {},
   "outputs": [
    {
     "name": "stdout",
     "output_type": "stream",
     "text": [
      "['/usr/local/lib/python3.5/dist-packages/optimus']\n"
     ]
    }
   ],
   "source": [
    "print(optimus.__path__)"
   ]
  },
  {
   "cell_type": "markdown",
   "id": "34e9bfa2",
   "metadata": {},
   "source": [
    "## Define the physical parameters and the geometry of the problem"
   ]
  },
  {
   "cell_type": "markdown",
   "id": "c12056f1",
   "metadata": {},
   "source": [
    "We consider a beam from a bowl source at 100 kHz, focused at a distance of 64 mm. Furthermore, the exterior material is water and the interior material is cortical bone."
   ]
  },
  {
   "cell_type": "code",
   "execution_count": 4,
   "id": "753cae38",
   "metadata": {},
   "outputs": [],
   "source": [
    "frequency = 100e3\n",
    "radius_of_curvature = 64e-3\n",
    "radius = radius_of_curvature / 2\n",
    "location = (0, 0, -radius_of_curvature)\n",
    "velocity = 0.04\n",
    "source = optimus.source.create_bowl(frequency, outer_radius=radius, radius_of_curvature=radius_of_curvature, location=location, source_axis=(0, 0, 1), velocity=velocity)"
   ]
  },
  {
   "cell_type": "code",
   "execution_count": 5,
   "id": "15c576f2",
   "metadata": {},
   "outputs": [],
   "source": [
    "material_ext = optimus.material.load_material(\"water\")\n",
    "material_int = optimus.material.load_material(\"bone (cortical)\")"
   ]
  },
  {
   "cell_type": "markdown",
   "id": "22c38db1",
   "metadata": {},
   "source": [
    "We use a model with four ribs for the focused ultrasound simulation. Let us consider the full model at low mesh density and a shortened version with only three ribs with a finer mesh."
   ]
  },
  {
   "cell_type": "code",
   "execution_count": 6,
   "id": "21f0b24a",
   "metadata": {},
   "outputs": [],
   "source": [
    "geometry1 = optimus.geometry.load.import_grid(\"Data/ribcage4-h-4.msh\", label=\"ribcage4\")\n",
    "geometry2 = optimus.geometry.load.import_grid(\"Data/ribcage3-h-1.msh\", label=\"ribcage3\")"
   ]
  },
  {
   "cell_type": "markdown",
   "id": "ea71d5ca",
   "metadata": {},
   "source": [
    "We like to verify the meshes before solving the BEM model. For this purpose, let us use the object `Visualise3DGrid` in OptimUS. It takes a list of the geometry objects to display. The control panel displayed on the chart allows to change the grid color, opacity, wireframe and other settings. For example, we notice that the units of the ribcage are in millimeters. Furthermore, we see that the finer mesh is indeed part of the larger ribcage."
   ]
  },
  {
   "cell_type": "code",
   "execution_count": 7,
   "id": "b3842a5b",
   "metadata": {},
   "outputs": [
    {
     "name": "stderr",
     "output_type": "stream",
     "text": [
      "/usr/local/lib/python3.5/dist-packages/traittypes/traittypes.py:101: UserWarning: Given trait value dtype \"int32\" does not match required type \"uint32\". A coerced copy has been created.\n",
      "  np.dtype(self.dtype).name))\n",
      "/usr/local/lib/python3.5/dist-packages/traittypes/traittypes.py:101: UserWarning: Given trait value dtype \"float64\" does not match required type \"float32\". A coerced copy has been created.\n",
      "  np.dtype(self.dtype).name))\n"
     ]
    },
    {
     "data": {
      "application/vnd.jupyter.widget-view+json": {
       "model_id": "3a080b28ae714de49abd46e843451872",
       "version_major": 2,
       "version_minor": 0
      },
      "text/plain": [
       "Output()"
      ]
     },
     "metadata": {},
     "output_type": "display_data"
    }
   ],
   "source": [
    "grids = optimus.postprocess.method.Visualise3DGrid([geometry1, geometry2])\n",
    "grids.create_computational_grid()\n",
    "grids.display_field()"
   ]
  },
  {
   "cell_type": "markdown",
   "id": "7bce0148",
   "metadata": {},
   "source": [
    "## Solve the acoustic model\n",
    "\n",
    "As noticed in the visualisation, the mesh file comes in millimeters, while OptimUS requires standard units. Hence, let us scale the mesh to meters and create a default acoustic model."
   ]
  },
  {
   "cell_type": "code",
   "execution_count": 8,
   "id": "5247aec0",
   "metadata": {},
   "outputs": [],
   "source": [
    "geometry = optimus.utils.mesh.scale_mesh(geometry1, 1e-3)\n",
    "model = optimus.model.create_default_model(source, geometry, material_ext, material_int)"
   ]
  },
  {
   "cell_type": "markdown",
   "id": "0ad7c7bd",
   "metadata": {},
   "source": [
    "Be careful that solving the model may take several minutes, depending on the computer facility."
   ]
  },
  {
   "cell_type": "code",
   "execution_count": 9,
   "id": "5030865b",
   "metadata": {},
   "outputs": [
    {
     "name": "stdout",
     "output_type": "stream",
     "text": [
      "CPU times: user 11min 46s, sys: 4min 26s, total: 16min 12s\n",
      "Wall time: 1min 6s\n"
     ]
    }
   ],
   "source": [
    "%%time\n",
    "model.solve()"
   ]
  },
  {
   "cell_type": "markdown",
   "id": "d8851b3a",
   "metadata": {},
   "source": [
    "After solving the scattering model, let us compute the field in a plane through the focal point."
   ]
  },
  {
   "cell_type": "code",
   "execution_count": 10,
   "id": "2e7fe75d",
   "metadata": {},
   "outputs": [],
   "source": [
    "optimus.global_parameters.postprocessing.quadrature_order = 20\n",
    "postprocess_plane = optimus.postprocess.VisualisePlane(model)\n",
    "postprocess_plane.create_computational_grid(resolution=(141, 241), bounding_box=(-90e-3, 90e-3, -90e-3, 90e-3),\n",
    "                                            plane_axes=(1, 2))\n",
    "postprocess_plane.compute_fields()"
   ]
  },
  {
   "cell_type": "markdown",
   "id": "1338c875",
   "metadata": {},
   "source": [
    "## Visualise the field in 3D\n",
    "\n",
    "We display the surface and plane with their respective field values using the object `Visualise3DField`. It is possible to change the grid color, opacity, wireframe and other settings with the control panel displayed on the chart."
   ]
  },
  {
   "cell_type": "code",
   "execution_count": 11,
   "id": "12c7ff0a",
   "metadata": {},
   "outputs": [
    {
     "data": {
      "application/vnd.jupyter.widget-view+json": {
       "model_id": "0b757c50c8c34979ae3b4b9e59d0f7c3",
       "version_major": 2,
       "version_minor": 0
      },
      "text/plain": [
       "Output()"
      ]
     },
     "metadata": {},
     "output_type": "display_data"
    }
   ],
   "source": [
    "postprocess_3D = optimus.postprocess.method.Visualise3DField(model)\n",
    "postprocess_3D.create_computational_grid()\n",
    "postprocess_3D.add_VisualisePlane(postprocess_plane)\n",
    "postprocess_3D.compute_fields()\n",
    "postprocess_3D.display_field()"
   ]
  },
  {
   "cell_type": "markdown",
   "id": "12ab9b09",
   "metadata": {},
   "source": [
    "## Visualisation in a cloud of points\n",
    "\n",
    "The acoustic field can be calculated on any list of points in space. With the following function it is possible to display a three-dimensional visualisation for any chosen set of points on the space. For illustration purposes, we use points randomnly located in a space near the ribcage."
   ]
  },
  {
   "cell_type": "code",
   "execution_count": 12,
   "id": "6eb897e1",
   "metadata": {},
   "outputs": [],
   "source": [
    "import numpy as np"
   ]
  },
  {
   "cell_type": "code",
   "execution_count": 13,
   "id": "df99dc21",
   "metadata": {},
   "outputs": [],
   "source": [
    "n = 500\n",
    "pointsarray = np.random.rand(3,n) * 0.18 - 0.09"
   ]
  },
  {
   "cell_type": "markdown",
   "id": "edd7cd69",
   "metadata": {},
   "source": [
    "We plot the cloud of points with colors corresponding to the magnitude of the field in that position using the function `VisualiseCloudPoints`. It is possible to change the grid color, opacity, wireframe and other settings with the control panel displayed on the chart."
   ]
  },
  {
   "cell_type": "code",
   "execution_count": 14,
   "id": "cf17bec3",
   "metadata": {},
   "outputs": [
    {
     "data": {
      "application/vnd.jupyter.widget-view+json": {
       "model_id": "5b082d587e464d9c9d96428ef6afdb16",
       "version_major": 2,
       "version_minor": 0
      },
      "text/plain": [
       "Output()"
      ]
     },
     "metadata": {},
     "output_type": "display_data"
    }
   ],
   "source": [
    "points = optimus.postprocess.VisualiseCloudPoints(model)\n",
    "points.create_computational_grid(pointsarray)\n",
    "points.compute_fields()\n",
    "points.display_field(size = 0.009)"
   ]
  }
 ],
 "metadata": {
  "kernelspec": {
   "display_name": "Python 3",
   "language": "python",
   "name": "python3"
  },
  "language_info": {
   "codemirror_mode": {
    "name": "ipython",
    "version": 3
   },
   "file_extension": ".py",
   "mimetype": "text/x-python",
   "name": "python",
   "nbconvert_exporter": "python",
   "pygments_lexer": "ipython3",
   "version": "3.5.2"
  }
 },
 "nbformat": 4,
 "nbformat_minor": 5
}
